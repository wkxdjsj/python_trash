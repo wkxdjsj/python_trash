{
 "cells": [
  {
   "cell_type": "code",
   "execution_count": 1,
   "metadata": {},
   "outputs": [
    {
     "name": "stdout",
     "output_type": "stream",
     "text": [
      "hello world\n"
     ]
    }
   ],
   "source": [
    "print(\"hello world\")"
   ]
  },
  {
   "cell_type": "code",
   "execution_count": 3,
   "metadata": {},
   "outputs": [
    {
     "name": "stdout",
     "output_type": "stream",
     "text": [
      "5\n"
     ]
    }
   ],
   "source": [
    "a = 1 \n",
    "b = 4\n",
    "print(a+b)"
   ]
  },
  {
   "cell_type": "code",
   "execution_count": 83,
   "metadata": {},
   "outputs": [
    {
     "name": "stdout",
     "output_type": "stream",
     "text": [
      "['Kelly', 'Shawn']\n"
     ]
    }
   ],
   "source": [
    "customer_1 = \"Kelly\"\n",
    "customer_2 = \"Shawn\"\n",
    "customers_list_1 = [customer_1, customer_2]\n",
    "print(customers_list_2)"
   ]
  },
  {
   "cell_type": "code",
   "execution_count": 10,
   "metadata": {},
   "outputs": [
    {
     "name": "stdout",
     "output_type": "stream",
     "text": [
      "{'Kelly': 100000, 'Shawn': 50000}\n"
     ]
    }
   ],
   "source": [
    "salary_1 = 100000\n",
    "salary_2 = 50000\n",
    "paycheck_1 = {customer_1 : salary_1, customer_2 : salary_2}\n",
    "paycheck_2 = dict({customer_1 : salary_1, customer_2 : salary_2})\n",
    "print(paycheck_1)"
   ]
  },
  {
   "cell_type": "code",
   "execution_count": 12,
   "metadata": {},
   "outputs": [
    {
     "name": "stdout",
     "output_type": "stream",
     "text": [
      "Kelly's salary =  100000\n"
     ]
    }
   ],
   "source": [
    "print(\"Kelly's salary = \", paycheck_1[\"Kelly\"])"
   ]
  },
  {
   "cell_type": "code",
   "execution_count": 27,
   "metadata": {},
   "outputs": [
    {
     "name": "stdout",
     "output_type": "stream",
     "text": [
      "['Kelly shawn', ' 3 ', '6']\n"
     ]
    }
   ],
   "source": [
    "a = \"3,6\"\n",
    "b = \"Kelly shawn, 3 ,6\"\n",
    "c = 3.9\n",
    "print(list(b.split(\",\")))"
   ]
  },
  {
   "cell_type": "code",
   "execution_count": 66,
   "metadata": {},
   "outputs": [],
   "source": [
    "def map_employee(seq):\n",
    "    employee = {\"name\":all_employees.split(\"; \")[seq].split(\", \")[0]\n",
    "    ,\"height\":all_employees.split(\"; \")[seq].split(\", \")[1]\n",
    "    ,\"income\":all_employees.split(\"; \")[seq].split(\", \")[2]\n",
    "    ,\"gender\":all_employees.split(\"; \")[seq].split(\", \")[3]}\n",
    "    return employee"
   ]
  },
  {
   "cell_type": "code",
   "execution_count": 67,
   "metadata": {},
   "outputs": [
    {
     "name": "stdout",
     "output_type": "stream",
     "text": [
      "shawn's height is1.8\n"
     ]
    }
   ],
   "source": [
    "#our employee infomation\n",
    "all_employees = \"shawn, 1.8, 50000, male; Kelly, 1.6, 100000, female; Jade, 1.6, 10000, female\"\n",
    "#print all employee names\n",
    "#print employee height/salary/gender by name\n",
    "#print female employees\n",
    "employee_1 = map_employee(0)\n",
    "employee_2 = map_employee(1)\n",
    "employee_3 = map_employee(2)\n",
    "employees = employee_1,employee_2,employee_3\n",
    "# print(employees[0][\"name\"],employees[1][\"name\"],employees[2][\"name\"])\n",
    "print(employees[0][\"name\"]+\"'s height is\"+employees[0][\"height\"])"
   ]
  },
  {
   "cell_type": "code",
   "execution_count": 68,
   "metadata": {},
   "outputs": [
    {
     "name": "stdout",
     "output_type": "stream",
     "text": [
      "shawn\n",
      "Kelly\n",
      "Jade\n"
     ]
    }
   ],
   "source": [
    "for emp in employees:\n",
    "    print(emp[\"name\"])"
   ]
  },
  {
   "cell_type": "code",
   "execution_count": 69,
   "metadata": {},
   "outputs": [
    {
     "name": "stdout",
     "output_type": "stream",
     "text": [
      "Kelly\n",
      "Jade\n"
     ]
    }
   ],
   "source": [
    "for emp in employees:\n",
    "    if emp[\"gender\"] == \"female\":\n",
    "        print(emp[\"name\"])"
   ]
  },
  {
   "cell_type": "code",
   "execution_count": 78,
   "metadata": {},
   "outputs": [
    {
     "name": "stdout",
     "output_type": "stream",
     "text": [
      "2\n",
      "3\n",
      "4\n",
      "5\n",
      "6\n",
      "7\n",
      "8\n",
      "9\n"
     ]
    }
   ],
   "source": [
    "a = 1\n",
    "while True:\n",
    "    a = a+1\n",
    "    if a == 10:\n",
    "        break;\n",
    "    print(a)\n",
    "    "
   ]
  },
  {
   "cell_type": "code",
   "execution_count": 81,
   "metadata": {},
   "outputs": [
    {
     "name": "stdout",
     "output_type": "stream",
     "text": [
      "Here is your input:123\n",
      "Here is my output:123\n"
     ]
    }
   ],
   "source": [
    "a = input(\"Here is your input:\")\n",
    "print(\"Here is my output:\"+a)"
   ]
  },
  {
   "cell_type": "code",
   "execution_count": 87,
   "metadata": {},
   "outputs": [
    {
     "name": "stdout",
     "output_type": "stream",
     "text": [
      "{'name': 'Kelly', 'height': '1.6', 'income': '100000', 'gender': 'female'}\n"
     ]
    }
   ],
   "source": [
    "print(employees[-2])"
   ]
  },
  {
   "cell_type": "code",
   "execution_count": 96,
   "metadata": {},
   "outputs": [
    {
     "name": "stdout",
     "output_type": "stream",
     "text": [
      "11\n",
      "61\n",
      "9\n",
      "33\n",
      "97\n",
      "25\n",
      "8\n",
      "90\n",
      "29\n",
      "4\n"
     ]
    }
   ],
   "source": [
    "import random\n",
    "for x in range(10):\n",
    "    print(random.randint(1,101))"
   ]
  },
  {
   "cell_type": "code",
   "execution_count": 105,
   "metadata": {},
   "outputs": [
    {
     "name": "stdout",
     "output_type": "stream",
     "text": [
      "You can only input 1 number at a time. The number needs to be between 1 and 100.\n",
      "Let's see who has a bigger number.\n",
      "Let's start the game!\n",
      "\n",
      "Please input your number:quit\n"
     ]
    }
   ],
   "source": [
    "import random\n",
    "print(\"You can only input 1 number at a time. The number needs to be between 1 and 100.\")\n",
    "print(\"Let's see who has a bigger number.\")\n",
    "print(\"Let's start the game!\")\n",
    "print(\"\")\n",
    "while True:\n",
    "    inputList = []\n",
    "    inputList = input( 'Please input your number:' )\n",
    "    if \"quit\" in inputList:\n",
    "        break;\n",
    "    if int(inputList) < 0:\n",
    "        break;\n",
    "    if int(inputList) > 100:\n",
    "        break;\n",
    "    if int(inputList) > random.randint(1,100):\n",
    "        print(\"You have a bigger number\")\n",
    "    else: \n",
    "        print (\"Your number is smaller\")"
   ]
  },
  {
   "cell_type": "markdown",
   "metadata": {},
   "source": [
    "print(\"I will choose a number between 1 and 100. Let's see if you can guess it out!\")\n",
    "print(\"Let's start the game!\")\n",
    "print(\"\")\n",
    "\n",
    "ranNum = random.randint(1,100)\n",
    "while True:\n",
    "    inputNum = input('Please input your number:')\n",
    "    if \"quit\" in inputList:\n",
    "        break;\n",
    "    if int(inputNum) == ranNum:\n",
    "        print(\"You got it! You win\")\n",
    "        break;\n",
    "    if int(inputNum) < 0:\n",
    "        print(\"I can't read this number\");\n",
    "    if int(inputNum) > 100:\n",
    "        print(\"I can't read this number\");\n",
    "    if int(inputNum) > ranNum:\n",
    "        print(\"It is too big, please try again\")\n",
    "    if int(inputNum) < ranNum: \n",
    "        print(\"It is too small, please try again.\")"
   ]
  },
  {
   "cell_type": "code",
   "execution_count": 114,
   "metadata": {},
   "outputs": [
    {
     "name": "stdout",
     "output_type": "stream",
     "text": [
      "I will choose a number between 1 and 100. Let's see if you can guess it out!\n",
      "Let's start the game!\n",
      "\n"
     ]
    },
    {
     "ename": "KeyboardInterrupt",
     "evalue": "Interrupted by user",
     "output_type": "error",
     "traceback": [
      "\u001b[0;31m---------------------------------------------------------------------------\u001b[0m",
      "\u001b[0;31mKeyboardInterrupt\u001b[0m                         Traceback (most recent call last)",
      "\u001b[0;32m<ipython-input-114-7ae3169d351d>\u001b[0m in \u001b[0;36m<module>\u001b[0;34m\u001b[0m\n\u001b[1;32m      5\u001b[0m \u001b[0mranNum\u001b[0m \u001b[0;34m=\u001b[0m \u001b[0mrandom\u001b[0m\u001b[0;34m.\u001b[0m\u001b[0mrandint\u001b[0m\u001b[0;34m(\u001b[0m\u001b[0;36m1\u001b[0m\u001b[0;34m,\u001b[0m\u001b[0;36m100\u001b[0m\u001b[0;34m)\u001b[0m\u001b[0;34m\u001b[0m\u001b[0;34m\u001b[0m\u001b[0m\n\u001b[1;32m      6\u001b[0m \u001b[0;32mwhile\u001b[0m \u001b[0;32mTrue\u001b[0m\u001b[0;34m:\u001b[0m\u001b[0;34m\u001b[0m\u001b[0;34m\u001b[0m\u001b[0m\n\u001b[0;32m----> 7\u001b[0;31m     \u001b[0minputNum\u001b[0m \u001b[0;34m=\u001b[0m \u001b[0minput\u001b[0m\u001b[0;34m(\u001b[0m\u001b[0;34m\"your guess:\"\u001b[0m\u001b[0;34m)\u001b[0m\u001b[0;34m\u001b[0m\u001b[0;34m\u001b[0m\u001b[0m\n\u001b[0m\u001b[1;32m      8\u001b[0m     \u001b[0;32mif\u001b[0m \u001b[0minputNum\u001b[0m \u001b[0;34m==\u001b[0m \u001b[0;34m\"quit\"\u001b[0m\u001b[0;34m:\u001b[0m\u001b[0;34m\u001b[0m\u001b[0;34m\u001b[0m\u001b[0m\n\u001b[1;32m      9\u001b[0m         \u001b[0mprint\u001b[0m\u001b[0;34m(\u001b[0m\u001b[0;34m\"Game ended.\"\u001b[0m\u001b[0;34m)\u001b[0m\u001b[0;34m\u001b[0m\u001b[0;34m\u001b[0m\u001b[0m\n",
      "\u001b[0;32m/usr/local/Cellar/jupyterlab/2.1.5/libexec/lib/python3.8/site-packages/ipykernel/kernelbase.py\u001b[0m in \u001b[0;36mraw_input\u001b[0;34m(self, prompt)\u001b[0m\n\u001b[1;32m    858\u001b[0m                 \u001b[0;34m\"raw_input was called, but this frontend does not support input requests.\"\u001b[0m\u001b[0;34m\u001b[0m\u001b[0;34m\u001b[0m\u001b[0m\n\u001b[1;32m    859\u001b[0m             )\n\u001b[0;32m--> 860\u001b[0;31m         return self._input_request(str(prompt),\n\u001b[0m\u001b[1;32m    861\u001b[0m             \u001b[0mself\u001b[0m\u001b[0;34m.\u001b[0m\u001b[0m_parent_ident\u001b[0m\u001b[0;34m,\u001b[0m\u001b[0;34m\u001b[0m\u001b[0;34m\u001b[0m\u001b[0m\n\u001b[1;32m    862\u001b[0m             \u001b[0mself\u001b[0m\u001b[0;34m.\u001b[0m\u001b[0m_parent_header\u001b[0m\u001b[0;34m,\u001b[0m\u001b[0;34m\u001b[0m\u001b[0;34m\u001b[0m\u001b[0m\n",
      "\u001b[0;32m/usr/local/Cellar/jupyterlab/2.1.5/libexec/lib/python3.8/site-packages/ipykernel/kernelbase.py\u001b[0m in \u001b[0;36m_input_request\u001b[0;34m(self, prompt, ident, parent, password)\u001b[0m\n\u001b[1;32m    902\u001b[0m             \u001b[0;32mexcept\u001b[0m \u001b[0mKeyboardInterrupt\u001b[0m\u001b[0;34m:\u001b[0m\u001b[0;34m\u001b[0m\u001b[0;34m\u001b[0m\u001b[0m\n\u001b[1;32m    903\u001b[0m                 \u001b[0;31m# re-raise KeyboardInterrupt, to truncate traceback\u001b[0m\u001b[0;34m\u001b[0m\u001b[0;34m\u001b[0m\u001b[0;34m\u001b[0m\u001b[0m\n\u001b[0;32m--> 904\u001b[0;31m                 \u001b[0;32mraise\u001b[0m \u001b[0mKeyboardInterrupt\u001b[0m\u001b[0;34m(\u001b[0m\u001b[0;34m\"Interrupted by user\"\u001b[0m\u001b[0;34m)\u001b[0m \u001b[0;32mfrom\u001b[0m \u001b[0;32mNone\u001b[0m\u001b[0;34m\u001b[0m\u001b[0;34m\u001b[0m\u001b[0m\n\u001b[0m\u001b[1;32m    905\u001b[0m             \u001b[0;32mexcept\u001b[0m \u001b[0mException\u001b[0m \u001b[0;32mas\u001b[0m \u001b[0me\u001b[0m\u001b[0;34m:\u001b[0m\u001b[0;34m\u001b[0m\u001b[0;34m\u001b[0m\u001b[0m\n\u001b[1;32m    906\u001b[0m                 \u001b[0mself\u001b[0m\u001b[0;34m.\u001b[0m\u001b[0mlog\u001b[0m\u001b[0;34m.\u001b[0m\u001b[0mwarning\u001b[0m\u001b[0;34m(\u001b[0m\u001b[0;34m\"Invalid Message:\"\u001b[0m\u001b[0;34m,\u001b[0m \u001b[0mexc_info\u001b[0m\u001b[0;34m=\u001b[0m\u001b[0;32mTrue\u001b[0m\u001b[0;34m)\u001b[0m\u001b[0;34m\u001b[0m\u001b[0;34m\u001b[0m\u001b[0m\n",
      "\u001b[0;31mKeyboardInterrupt\u001b[0m: Interrupted by user"
     ]
    }
   ],
   "source": [
    "print(\"I will choose a number between 1 and 100. Let's see if you can guess it out!\")\n",
    "print(\"Let's start the game!\")\n",
    "print(\"\")\n",
    "\n",
    "ranNum = random.randint(1,100)\n",
    "while True: \n",
    "    inputNum = input(\"your guess:\") \n",
    "    if inputNum == \"quit\": \n",
    "        print(\"Game ended.\")\n",
    "        break; \n",
    "    elif int(inputNum) == ranNum:\n",
    "        print(\"You got it! You win\")\n",
    "        break;\n",
    "    elif int(inputNum) < 0:\n",
    "        print(\"I can't read this number\");\n",
    "    elif int(inputNum) > 100:\n",
    "        print(\"I can't read this number\");\n",
    "    elif int(inputNum) > ranNum:\n",
    "        print(\"It is too big, please try again\") \n",
    "    elif int(inputNum) < ranNum: \n",
    "        print(\"It is too small, please try again.\")"
   ]
  },
  {
   "cell_type": "code",
   "execution_count": 117,
   "metadata": {},
   "outputs": [
    {
     "name": "stdout",
     "output_type": "stream",
     "text": [
      "You will choose a number between 1 and 100. Let's see if I can guess it out!\n",
      "You can say 'too big' or 'too small' to let me know if I am wrong\n",
      "You can say 'yes' to let me know if I am correct\n",
      "You can say 'quit' any time to stop the game\n",
      "Let's start the game!\n",
      "Are you ready?yes\n",
      "My guess it is 50\n",
      "Is is correct? :too small\n",
      "My guess it is 75\n",
      "Is is correct? :too big\n",
      "My guess it is 62\n",
      "Is is correct? :too small\n",
      "My guess it is 68\n",
      "Is is correct? :too small\n",
      "My guess it is 71\n",
      "Is is correct? :too small\n",
      "My guess it is 73\n",
      "Is is correct? :yes\n",
      "I got it! I win\n"
     ]
    }
   ],
   "source": [
    "print(\"You will choose a number between 1 and 100. Let's see if I can guess it out!\")\n",
    "print(\"You can say 'too big' or 'too small' to let me know if I am wrong\")\n",
    "print(\"You can say 'yes' to let me know if I am correct\")\n",
    "print(\"You can say 'quit' any time to stop the game\")\n",
    "print(\"Let's start the game!\")\n",
    "\n",
    "if input(\"Are you ready?\") == \"yes\":\n",
    "    start = 1\n",
    "    end = 100\n",
    "    while True: \n",
    "        myGuess = int((start+end)/2)\n",
    "        print(\"My guess it is \"+ str(myGuess))\n",
    "        inputResult = input(\"Is is correct? :\") \n",
    "        if inputResult == \"quit\" or inputResult == \"stop\": \n",
    "            print(\"Game ended.\")\n",
    "            break; \n",
    "        elif inputResult == \"yes\":\n",
    "            print(\"I got it! I win\")\n",
    "            break;\n",
    "        elif inputResult == \"too big\":\n",
    "            end = myGuess-1\n",
    "        elif inputResult == \"too small\": \n",
    "            start = myGuess+1\n",
    "        else:\n",
    "            print(\"I can't read your input. Let's try again.\")\n",
    "else:\n",
    "    print(\"gg\")"
   ]
  }
 ],
 "metadata": {
  "kernelspec": {
   "display_name": "Python 3",
   "language": "python",
   "name": "python3"
  },
  "language_info": {
   "codemirror_mode": {
    "name": "ipython",
    "version": 3
   },
   "file_extension": ".py",
   "mimetype": "text/x-python",
   "name": "python",
   "nbconvert_exporter": "python",
   "pygments_lexer": "ipython3",
   "version": "3.8.3"
  }
 },
 "nbformat": 4,
 "nbformat_minor": 2
}
