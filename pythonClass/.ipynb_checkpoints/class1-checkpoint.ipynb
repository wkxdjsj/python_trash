{
 "cells": [
  {
   "cell_type": "code",
   "execution_count": 1,
   "metadata": {},
   "outputs": [
    {
     "name": "stdout",
     "output_type": "stream",
     "text": [
      "hello world\n"
     ]
    }
   ],
   "source": [
    "print(\"hello world\")"
   ]
  },
  {
   "cell_type": "code",
   "execution_count": 3,
   "metadata": {},
   "outputs": [
    {
     "name": "stdout",
     "output_type": "stream",
     "text": [
      "5\n"
     ]
    }
   ],
   "source": [
    "a = 1 \n",
    "b = 4\n",
    "print(a+b)"
   ]
  },
  {
   "cell_type": "code",
   "execution_count": 83,
   "metadata": {},
   "outputs": [
    {
     "name": "stdout",
     "output_type": "stream",
     "text": [
      "['Kelly', 'Shawn']\n"
     ]
    }
   ],
   "source": [
    "customer_1 = \"Kelly\"\n",
    "customer_2 = \"Shawn\"\n",
    "customers_list_1 = [customer_1, customer_2]\n",
    "print(customers_list_2)"
   ]
  },
  {
   "cell_type": "code",
   "execution_count": 10,
   "metadata": {},
   "outputs": [
    {
     "name": "stdout",
     "output_type": "stream",
     "text": [
      "{'Kelly': 100000, 'Shawn': 50000}\n"
     ]
    }
   ],
   "source": [
    "salary_1 = 100000\n",
    "salary_2 = 50000\n",
    "paycheck_1 = {customer_1 : salary_1, customer_2 : salary_2}\n",
    "paycheck_2 = dict({customer_1 : salary_1, customer_2 : salary_2})\n",
    "print(paycheck_1)"
   ]
  },
  {
   "cell_type": "code",
   "execution_count": 12,
   "metadata": {},
   "outputs": [
    {
     "name": "stdout",
     "output_type": "stream",
     "text": [
      "Kelly's salary =  100000\n"
     ]
    }
   ],
   "source": [
    "print(\"Kelly's salary = \", paycheck_1[\"Kelly\"])"
   ]
  },
  {
   "cell_type": "code",
   "execution_count": 27,
   "metadata": {},
   "outputs": [
    {
     "name": "stdout",
     "output_type": "stream",
     "text": [
      "['Kelly shawn', ' 3 ', '6']\n"
     ]
    }
   ],
   "source": [
    "a = \"3,6\"\n",
    "b = \"Kelly shawn, 3 ,6\"\n",
    "c = 3.9\n",
    "print(list(b.split(\",\")))"
   ]
  },
  {
   "cell_type": "code",
   "execution_count": 66,
   "metadata": {},
   "outputs": [],
   "source": [
    "def map_employee(seq):\n",
    "    employee = {\"name\":all_employees.split(\"; \")[seq].split(\", \")[0]\n",
    "    ,\"height\":all_employees.split(\"; \")[seq].split(\", \")[1]\n",
    "    ,\"income\":all_employees.split(\"; \")[seq].split(\", \")[2]\n",
    "    ,\"gender\":all_employees.split(\"; \")[seq].split(\", \")[3]}\n",
    "    return employee"
   ]
  },
  {
   "cell_type": "code",
   "execution_count": 67,
   "metadata": {},
   "outputs": [
    {
     "name": "stdout",
     "output_type": "stream",
     "text": [
      "shawn's height is1.8\n"
     ]
    }
   ],
   "source": [
    "#our employee infomation\n",
    "all_employees = \"shawn, 1.8, 50000, male; Kelly, 1.6, 100000, female; Jade, 1.6, 10000, female\"\n",
    "#print all employee names\n",
    "#print employee height/salary/gender by name\n",
    "#print female employees\n",
    "employee_1 = map_employee(0)\n",
    "employee_2 = map_employee(1)\n",
    "employee_3 = map_employee(2)\n",
    "employees = employee_1,employee_2,employee_3\n",
    "# print(employees[0][\"name\"],employees[1][\"name\"],employees[2][\"name\"])\n",
    "print(employees[0][\"name\"]+\"'s height is\"+employees[0][\"height\"])"
   ]
  },
  {
   "cell_type": "code",
   "execution_count": 68,
   "metadata": {},
   "outputs": [
    {
     "name": "stdout",
     "output_type": "stream",
     "text": [
      "shawn\n",
      "Kelly\n",
      "Jade\n"
     ]
    }
   ],
   "source": [
    "for emp in employees:\n",
    "    print(emp[\"name\"])"
   ]
  },
  {
   "cell_type": "code",
   "execution_count": 69,
   "metadata": {},
   "outputs": [
    {
     "name": "stdout",
     "output_type": "stream",
     "text": [
      "Kelly\n",
      "Jade\n"
     ]
    }
   ],
   "source": [
    "for emp in employees:\n",
    "    if emp[\"gender\"] == \"female\":\n",
    "        print(emp[\"name\"])"
   ]
  },
  {
   "cell_type": "code",
   "execution_count": 78,
   "metadata": {},
   "outputs": [
    {
     "name": "stdout",
     "output_type": "stream",
     "text": [
      "2\n",
      "3\n",
      "4\n",
      "5\n",
      "6\n",
      "7\n",
      "8\n",
      "9\n"
     ]
    }
   ],
   "source": [
    "a = 1\n",
    "while True:\n",
    "    a = a+1\n",
    "    if a == 10:\n",
    "        break;\n",
    "    print(a)\n",
    "    "
   ]
  },
  {
   "cell_type": "code",
   "execution_count": 81,
   "metadata": {},
   "outputs": [
    {
     "name": "stdout",
     "output_type": "stream",
     "text": [
      "Here is your input:123\n",
      "Here is my output:123\n"
     ]
    }
   ],
   "source": [
    "a = input(\"Here is your input:\")\n",
    "print(\"Here is my output:\"+a)"
   ]
  },
  {
   "cell_type": "code",
   "execution_count": 87,
   "metadata": {},
   "outputs": [
    {
     "name": "stdout",
     "output_type": "stream",
     "text": [
      "{'name': 'Kelly', 'height': '1.6', 'income': '100000', 'gender': 'female'}\n"
     ]
    }
   ],
   "source": [
    "print(employees[-2])"
   ]
  },
  {
   "cell_type": "code",
   "execution_count": 96,
   "metadata": {},
   "outputs": [
    {
     "name": "stdout",
     "output_type": "stream",
     "text": [
      "11\n",
      "61\n",
      "9\n",
      "33\n",
      "97\n",
      "25\n",
      "8\n",
      "90\n",
      "29\n",
      "4\n"
     ]
    }
   ],
   "source": [
    "import random\n",
    "for x in range(10):\n",
    "    print(random.randint(1,101))"
   ]
  },
  {
   "cell_type": "code",
   "execution_count": 105,
   "metadata": {},
   "outputs": [
    {
     "name": "stdout",
     "output_type": "stream",
     "text": [
      "You can only input 1 number at a time. The number needs to be between 1 and 100.\n",
      "Let's see who has a bigger number.\n",
      "Let's start the game!\n",
      "\n",
      "Please input your number:quit\n"
     ]
    }
   ],
   "source": [
    "import random\n",
    "print(\"You can only input 1 number at a time. The number needs to be between 1 and 100.\")\n",
    "print(\"Let's see who has a bigger number.\")\n",
    "print(\"Let's start the game!\")\n",
    "print(\"\")\n",
    "while True:\n",
    "    inputList = []\n",
    "    inputList = input( 'Please input your number:' )\n",
    "    if \"quit\" in inputList:\n",
    "        break;\n",
    "    if int(inputList) < 0:\n",
    "        break;\n",
    "    if int(inputList) > 100:\n",
    "        break;\n",
    "    if int(inputList) > random.randint(1,100):\n",
    "        print(\"You have a bigger number\")\n",
    "    else: \n",
    "        print (\"Your number is smaller\")"
   ]
  },
  {
   "cell_type": "markdown",
   "metadata": {},
   "source": [
    "print(\"I will choose a number between 1 and 100. Let's see if you can guess it out!\")\n",
    "print(\"Let's start the game!\")\n",
    "print(\"\")\n",
    "\n",
    "ranNum = random.randint(1,100)\n",
    "while True:\n",
    "    inputNum = input('Please input your number:')\n",
    "    if \"quit\" in inputList:\n",
    "        break;\n",
    "    if int(inputNum) == ranNum:\n",
    "        print(\"You got it! You win\")\n",
    "        break;\n",
    "    if int(inputNum) < 0:\n",
    "        print(\"I can't read this number\");\n",
    "    if int(inputNum) > 100:\n",
    "        print(\"I can't read this number\");\n",
    "    if int(inputNum) > ranNum:\n",
    "        print(\"It is too big, please try again\")\n",
    "    if int(inputNum) < ranNum: \n",
    "        print(\"It is too small, please try again.\")"
   ]
  },
  {
   "cell_type": "code",
   "execution_count": 113,
   "metadata": {},
   "outputs": [
    {
     "name": "stdout",
     "output_type": "stream",
     "text": [
      "I will choose a number between 1 and 100. Let's see if you can guess it out!\n",
      "Let's start the game!\n",
      "\n",
      "your guess:50\n",
      "It is too big, please try again\n",
      "your guess:75\n",
      "It is too big, please try again\n",
      "your guess:62\n",
      "It is too big, please try again\n",
      "your guess:25\n",
      "It is too big, please try again\n",
      "your guess:12\n",
      "It is too big, please try again\n",
      "your guess:6\n",
      "You got it! You win\n"
     ]
    }
   ],
   "source": [
    "print(\"I will choose a number between 1 and 100. Let's see if you can guess it out!\")\n",
    "print(\"Let's start the game!\")\n",
    "print(\"\")\n",
    "\n",
    "ranNum = random.randint(1,100)\n",
    "while True: \n",
    "    inputNum = input(\"your guess:\") \n",
    "    if inputNum == \"quit\": \n",
    "        print(\"Game ended.\")\n",
    "        break; \n",
    "    elif int(inputNum) == ranNum:\n",
    "        print(\"You got it! You win\")\n",
    "        break;\n",
    "    elif int(inputNum) < 0:\n",
    "        print(\"I can't read this number\");\n",
    "    elif int(inputNum) > 100:\n",
    "        print(\"I can't read this number\");\n",
    "    elif int(inputNum) > ranNum:\n",
    "        print(\"It is too big, please try again\") \n",
    "    elif int(inputNum) < ranNum: \n",
    "        print(\"It is too small, please try again.\")"
   ]
  },
  {
   "cell_type": "code",
   "execution_count": null,
   "metadata": {},
   "outputs": [],
   "source": []
  }
 ],
 "metadata": {
  "kernelspec": {
   "display_name": "Python 3",
   "language": "python",
   "name": "python3"
  }
 },
 "nbformat": 4,
 "nbformat_minor": 2
}
